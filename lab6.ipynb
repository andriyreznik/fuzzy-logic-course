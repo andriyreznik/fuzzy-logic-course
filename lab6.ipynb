{
  "cells": [
    {
      "cell_type": "code",
      "execution_count": 1,
      "metadata": {
        "id": "u0gZsBUSZ7zp"
      },
      "outputs": [],
      "source": [
        "import math\n",
        "import numpy as np"
      ]
    },
    {
      "cell_type": "markdown",
      "metadata": {
        "id": "oDJ5qIRoaA4s"
      },
      "source": [
        "Алгоритм нечітких k-середніх\n",
        "\n",
        "Варіант №14\n",
        "\n",
        "| x | 1.38 | 1.44 | 1.8  | 1.26 |\n",
        "|---|------|------|------|------|\n",
        "| y | 0.96 | 1.44 | 1.62 | 1.8  |"
      ]
    },
    {
      "cell_type": "code",
      "execution_count": 2,
      "metadata": {
        "id": "Uu9IsFjVZ_St"
      },
      "outputs": [],
      "source": [
        "x_set = [1.38, 1.44, 1.8, 1.26]\n",
        "y_set = [0.96, 1.44, 1.62, 1.8]\n",
        "\n",
        "n = len(x_set) # 4 - number of elements"
      ]
    },
    {
      "cell_type": "markdown",
      "metadata": {
        "id": "OVb9EliDaIgD"
      },
      "source": [
        "Крок 1. Задаємо початкові значення наступних параметрів алгоритму:<br>\n",
        "\n",
        "$c$ – число кластерів;<br>\n",
        "$\\varepsilon$ – точність кластеризації.<br>\n",
        "\n",
        "Встановлюємо лічильник ітерацій $t$ = 0"
      ]
    },
    {
      "cell_type": "code",
      "execution_count": 3,
      "metadata": {
        "id": "6iY7pi1GaG5v"
      },
      "outputs": [],
      "source": [
        "c = 2\n",
        "epsilon = 0.01\n",
        "t = 0"
      ]
    },
    {
      "cell_type": "markdown",
      "metadata": {
        "id": "i5GcTzADaPbS"
      },
      "source": [
        "Крок 2. Формуємо матрицю мір належності $\\Theta(t)$=$(\\mu_{ij}(t))$:"
      ]
    },
    {
      "cell_type": "code",
      "execution_count": 4,
      "metadata": {
        "id": "JvR05bo_aM4P"
      },
      "outputs": [],
      "source": [
        "clusters = np.array([[1, 1, 1, 0], [0, 0, 0, 1]])"
      ]
    },
    {
      "cell_type": "markdown",
      "metadata": {
        "id": "GlEyM_UQbjj8"
      },
      "source": [
        "Крок 3. Обчислюємо центри кластерів.<br>\n",
        "Крок 4. Обчислюємо відстань $d_{ij}$ між елементами j і кожним кластером.<br>\n",
        "Крок 5. Перевіряємо умову завершення кластеризації."
      ]
    },
    {
      "cell_type": "code",
      "execution_count": 5,
      "metadata": {
        "colab": {
          "base_uri": "https://localhost:8080/"
        },
        "id": "OuVDZ9F8bRQf",
        "outputId": "aaf17010-e1bf-4567-b33f-b1a3785372f6"
      },
      "outputs": [
        {
          "name": "stderr",
          "output_type": "stream",
          "text": [
            "/tmp/ipykernel_3218/43468939.py:24: RuntimeWarning: divide by zero encountered in double_scalars\n",
            "  mu[0][i] = round((1 + (d[0][i]/d[1][i])**2)**-1, 3)\n"
          ]
        }
      ],
      "source": [
        "def centroid(items, cluster):\n",
        "    return sum([mu**2 * item for item,mu in zip(items,cluster)]) / sum([mu**2 for mu in cluster])\n",
        "\n",
        "prev_centroids = np.zeros((c,2))\n",
        "\n",
        "while True:\n",
        "    t+=1\n",
        "    centroids = np.zeros((c,2))\n",
        "    d = np.zeros((c,n))\n",
        "\n",
        "    for i, cluster in enumerate(clusters):\n",
        "        # step 3. calculate clusters' centroids\n",
        "        centroids[i][0] = round(centroid(x_set, cluster),2)\n",
        "        centroids[i][1] = round(centroid(y_set, cluster),2)\n",
        "\n",
        "        # step 4. calculate distances bitween clusters and elements\n",
        "        for j, (x,y) in enumerate(zip(x_set, y_set)):\n",
        "            d[i][j] = round(math.sqrt((x-centroids[i][0])**2 + (y-centroids[i][1])**2), 2)\n",
        "        \n",
        "    # adjust the elements of the membership matrix for points\n",
        "    mu = np.zeros((c,n))\n",
        "    for i in range(n):\n",
        "        try:\n",
        "            mu[0][i] = round((1 + (d[0][i]/d[1][i])**2)**-1, 3)\n",
        "        except ZeroDivisionError:\n",
        "            mu[0][i] = 0\n",
        "\n",
        "        mu[1][i] = 1 - mu[0][i]\n",
        "\n",
        "    # step 5. check condition to finish clusterization\n",
        "    max_mu = np.absolute(np.subtract(clusters, mu)).max()\n",
        "    \n",
        "\n",
        "    if (max_mu < epsilon or centroids == prev_centroids).any():\n",
        "        break\n",
        "\n",
        "    clusters = mu\n",
        "    prev_centroids = centroids"
      ]
    },
    {
      "cell_type": "code",
      "execution_count": 6,
      "metadata": {
        "colab": {
          "base_uri": "https://localhost:8080/"
        },
        "id": "KReftycfcNbI",
        "outputId": "737ef283-b742-42cb-f71d-37f39a91e59e"
      },
      "outputs": [
        {
          "name": "stdout",
          "output_type": "stream",
          "text": [
            "Кількість ітерацій: 11\n",
            "Центри кластерів v1 = (1.39, 1.0), v2 = (1.0, 1.49)\n",
            "Точки 1, 4 належить до 1-го кластера. Точки 2, 3 належить до 2-го кластера\n"
          ]
        }
      ],
      "source": [
        "print(\"Кількість ітерацій: {0}\".format(t))\n",
        "print(\"Центри кластерів v1 = ({0}, {1}), v2 = ({1}, {2})\".format(centroids[0][0], centroids[0][1], centroids[1][0], centroids[1][1]))\n",
        "print(\"Точки 1, 4 належить до 1-го кластера. Точки 2, 3 належить до 2-го кластера\")"
      ]
    }
  ],
  "metadata": {
    "colab": {
      "provenance": []
    },
    "kernelspec": {
      "display_name": "Python 3",
      "name": "python3"
    },
    "language_info": {
      "codemirror_mode": {
        "name": "ipython",
        "version": 3
      },
      "file_extension": ".py",
      "mimetype": "text/x-python",
      "name": "python",
      "nbconvert_exporter": "python",
      "pygments_lexer": "ipython3",
      "version": "3.9.13"
    }
  },
  "nbformat": 4,
  "nbformat_minor": 0
}
