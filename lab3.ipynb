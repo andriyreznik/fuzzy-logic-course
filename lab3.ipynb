{
 "cells": [
  {
   "cell_type": "code",
   "execution_count": 1,
   "metadata": {},
   "outputs": [],
   "source": [
    "from math import inf"
   ]
  },
  {
   "attachments": {},
   "cell_type": "markdown",
   "metadata": {},
   "source": [
    "Варіант №7:\n",
    "\n",
    "Завдання 3\n",
    "\n",
    "- Виконати первинну обробку фінансових показників діяльності\n",
    "підприємства за ІІ квартал;\n",
    "\n",
    "Завдання 4\n",
    "\n",
    "- Знайти значення функції належності лінгвістичної змінної «ризик\n",
    "банкрутства підприємства» за ІІ квартал;"
   ]
  },
  {
   "attachments": {},
   "cell_type": "markdown",
   "metadata": {},
   "source": [
    "| Назва показника                                                  \t| Позначення показника \t| I квартал \t| II квартал \t|\n",
    "|------------------------------------------------------------------\t|----------------------\t|-----------\t|------------\t|\n",
    "| Коефіцієнт автономії                                             \t| $X_1$                \t| 0.4       \t| 0.15       \t|\n",
    "| Коефіцієнт забезпечення оборотних <br> активів власними засобами \t| $X_2$                \t| 0.51      \t| 0.32       \t|\n",
    "| Коефіцієнт швидкої ліквідності                                   \t| $X_3$                \t| 1.3       \t| 0.9        \t|\n",
    "| Коефіцієнт абсолютної ліквідності                                \t| $X_4$                \t| 0.35      \t| 0.7        \t|\n",
    "| Коефіцієнт оборотності активів                                   \t| $X_5$                \t| 0.73      \t| 1.0        \t|\n",
    "| Коефіцієнт рентабельності капіталу                               \t| $X_6$                \t| 0.18      \t| 0.3        \t|"
   ]
  },
  {
   "cell_type": "code",
   "execution_count": 2,
   "metadata": {},
   "outputs": [],
   "source": [
    "# Спостережуване значення показника\n",
    "X1 = 0.15\n",
    "X2 = 0.32\n",
    "X3 = 0.9  \n",
    "X4 = 0.7\n",
    "X5 = 1.0\n",
    "X6 = 0.3"
   ]
  },
  {
   "attachments": {},
   "cell_type": "markdown",
   "metadata": {},
   "source": [
    "$B_{i1}$ – «дуже мале значення показника $X_i$»; <br>\n",
    "$B_{i2}$ – «мале значення показника $X_i$»; <br>\n",
    "$B_{i3}$ – «середнє значення показника $X_i$»; <br>\n",
    "$B_{i4}$ – «велике значення показника $X_i$»; <br>\n",
    "$B_{i5}$ – «дуже велике значення показника $X_i$». <br>"
   ]
  },
  {
   "attachments": {},
   "cell_type": "markdown",
   "metadata": {},
   "source": [
    "$X_1$, $B_{11}$ = (0; 0; 0.1; 0.2) <br>\n",
    "$X_2$, $B_{24}$ = (0.3; 0.35; 0.45; 0.5) <br>\n",
    "$X_3$, $B_{33}$ = (0.7; 0.8; 0.9; 1) <br>\n",
    "$X_4$, $B_{45}$ = (0.5; 0.6; $\\infty$; $\\infty$) <br>\n",
    "$X_5$, $B_{55}$ = (0.5;0.8; $\\infty$; $\\infty$) <br>\n",
    "$X_6$, $B_{64}$ = (0.06; 0.1; 0.225; 0.4) <br>"
   ]
  },
  {
   "attachments": {},
   "cell_type": "markdown",
   "metadata": {},
   "source": [
    "Терм-множина показника"
   ]
  },
  {
   "cell_type": "code",
   "execution_count": 3,
   "metadata": {},
   "outputs": [],
   "source": [
    "B11 = (0, 0, 0.1, 0.2)\n",
    "B24 = (0.3, 0.35, 0.45, 0.5)\n",
    "B33 = (0.7, 0.8, 0.9, 1)\n",
    "B45 = (0.5, 0.6, inf, inf)\n",
    "B55 = (0.5, 0.8, inf, inf)\n",
    "B64 = (0.06, 0.1, 0.225, 0.4) "
   ]
  },
  {
   "cell_type": "code",
   "execution_count": 4,
   "metadata": {},
   "outputs": [],
   "source": [
    "# Формула функції належності узагальненого трапецєподібного нечіткого інтервалу \n",
    "def mu(x, arr):\n",
    "    a1, a2, a3, a4 = arr\n",
    "    if x < a1:\n",
    "        return 0\n",
    "    if a1 <= x < a2:\n",
    "        return (x - a1) / (a2 - a1)\n",
    "    if a2 < x <= a3:\n",
    "        return 1\n",
    "    if a3 < x <= a4:\n",
    "        return (x - a4) / (a3 - a4)\n",
    "    if x > a4:\n",
    "        return 0"
   ]
  },
  {
   "attachments": {},
   "cell_type": "markdown",
   "metadata": {},
   "source": [
    "Значення функції належності"
   ]
  },
  {
   "cell_type": "code",
   "execution_count": 5,
   "metadata": {},
   "outputs": [],
   "source": [
    "mu_11 = mu(X1, B11)\n",
    "mu_24 = mu(X2, B24)\n",
    "mu_33 = mu(X3, B33)\n",
    "mu_45 = mu(X4, B45)\n",
    "mu_55 = mu(X5, B55)\n",
    "mu_64 = mu(X6, B64)"
   ]
  },
  {
   "attachments": {},
   "cell_type": "markdown",
   "metadata": {},
   "source": [
    "Вагові коефіцієнти термів $G_k$"
   ]
  },
  {
   "cell_type": "code",
   "execution_count": 6,
   "metadata": {},
   "outputs": [],
   "source": [
    "p5 = 1/6 * mu_11\n",
    "p4 = 0\n",
    "p3 = 1/6 * mu_33\n",
    "p2 = 1/6 * (mu_24 + mu_64)\n",
    "p1 = 1/6 * (mu_45 + mu_55)"
   ]
  },
  {
   "attachments": {},
   "cell_type": "markdown",
   "metadata": {},
   "source": [
    "Значення лінгвістичної змінної g на k - му проміжку, $g_k$ = $p_k$ $\\bar{g_k}$"
   ]
  },
  {
   "cell_type": "code",
   "execution_count": 7,
   "metadata": {},
   "outputs": [],
   "source": [
    "g1 = p1 * 0.875\n",
    "g2 = p2 * 0.7\n",
    "g3 = p3 * 0.5\n",
    "g4 = p4 * 0.3\n",
    "g5 = p5 * 0.125"
   ]
  },
  {
   "cell_type": "code",
   "execution_count": 8,
   "metadata": {},
   "outputs": [
    {
     "name": "stdout",
     "output_type": "stream",
     "text": [
      "0.49875\n"
     ]
    }
   ],
   "source": [
    "g = g1 + g2 + g3 + g4 + g5\n",
    "print(g)"
   ]
  },
  {
   "attachments": {},
   "cell_type": "markdown",
   "metadata": {},
   "source": [
    "$\\mu_3$(0.49875) = 1 $\\mid_{g=0.49875}$ = 1.\n",
    "\n",
    "Таким чином, у ІІ кварталі підприємство перебувало у стані\n",
    "\n",
    "$G_3$ ($\\mu_3$ = 1) «ризик банкрутства середній»."
   ]
  }
 ],
 "metadata": {
  "kernelspec": {
   "display_name": "base",
   "language": "python",
   "name": "python3"
  },
  "language_info": {
   "codemirror_mode": {
    "name": "ipython",
    "version": 3
   },
   "file_extension": ".py",
   "mimetype": "text/x-python",
   "name": "python",
   "nbconvert_exporter": "python",
   "pygments_lexer": "ipython3",
   "version": "3.9.13"
  },
  "orig_nbformat": 4
 },
 "nbformat": 4,
 "nbformat_minor": 2
}
