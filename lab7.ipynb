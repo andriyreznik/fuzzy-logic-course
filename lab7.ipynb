{
  "cells": [
    {
      "cell_type": "markdown",
      "metadata": {
        "id": "yFR0mUyrWAJM"
      },
      "source": [
        "| Номер варіанта | Нечіткий інтервал $A_i$ = ($a_i$, $b_i$, $c_i$, $d_i$) | $r$ | $\\rho$ |\n",
        "|----------------|--------------------------------------------------------|-----|--------|\n",
        "| 7              | (1,5,7,10)                                             | 3   | 0.3    |"
      ]
    },
    {
      "cell_type": "code",
      "execution_count": 1,
      "metadata": {
        "id": "RAlNIdPBV7Yc"
      },
      "outputs": [],
      "source": [
        "fuzzy_number = (1,5,7,10)\n",
        "r = 3\n",
        "rho = 0.3"
      ]
    },
    {
      "cell_type": "markdown",
      "metadata": {
        "id": "EkbKe5OkWFj3"
      },
      "source": [
        "Міра можливості трапецієподібного нечіткого інтервалу:"
      ]
    },
    {
      "cell_type": "code",
      "execution_count": 2,
      "metadata": {
        "id": "nufeK3O9WG6u"
      },
      "outputs": [],
      "source": [
        "def pos(fuzzy_number, r):\n",
        "    _, _, c, d = fuzzy_number\n",
        "\n",
        "    if r <= c:\n",
        "        return 1\n",
        "    elif c <= r <= d:\n",
        "        return (d - r) / (d - c)\n",
        "    elif r >= d:\n",
        "        return 0"
      ]
    },
    {
      "cell_type": "markdown",
      "metadata": {
        "id": "4BRu5MWRWJCO"
      },
      "source": [
        "Міра необхідності трапецієподібного нечіткого інтервалу:"
      ]
    },
    {
      "cell_type": "code",
      "execution_count": 3,
      "metadata": {
        "id": "IUddXk-GWLBe"
      },
      "outputs": [],
      "source": [
        "def nec(fuzzy_number, r):\n",
        "    a, b, c, _ = fuzzy_number\n",
        "\n",
        "    if r <= a:\n",
        "        return 1\n",
        "    elif a <= r <= b:\n",
        "        return (b - r) / (b - a)\n",
        "    elif r >= b:\n",
        "        return 0"
      ]
    },
    {
      "cell_type": "markdown",
      "metadata": {
        "id": "vPqlW2H_WQ5S"
      },
      "source": [
        "Міра правдоподібності трапецієподібного нечіткого інтервалу:"
      ]
    },
    {
      "cell_type": "code",
      "execution_count": 4,
      "metadata": {
        "id": "0eQz6RY9WPXZ"
      },
      "outputs": [],
      "source": [
        "def cr(fuzzy_number, r, rho):\n",
        "    a, b, c, d = fuzzy_number\n",
        "\n",
        "    if r <= a:\n",
        "        a1 = 1\n",
        "    elif a <= r <= b:\n",
        "        a1 = (b - rho * a - (1 - rho) * r) / (b - a)\n",
        "    elif b <= r <= c:\n",
        "        a1 = rho\n",
        "    elif c <= r <= d:\n",
        "        a1 = rho * (r - a) / (b - a)\n",
        "    elif r >= d:\n",
        "        a1 = 0\n",
        "\n",
        "    if r<=a:\n",
        "        a2 = 0\n",
        "    elif a <= r <= b:\n",
        "        a2 = rho * (r - a) / (b - a)\n",
        "    elif b <= r <= c:\n",
        "        a2 = rho\n",
        "    elif c <= r <= d:\n",
        "        a2 = (rho * d - c + (1 - rho) * r) / (d - c)\n",
        "    elif r >= d:\n",
        "        a2 = 1\n",
        "\n",
        "    return round(a1, 2), round(a2, 2)"
      ]
    },
    {
      "cell_type": "code",
      "execution_count": 5,
      "metadata": {
        "colab": {
          "base_uri": "https://localhost:8080/"
        },
        "id": "ZoDLGhi-WVjH",
        "outputId": "78d1c6f9-5b73-4fc1-e6d3-d9be5db4b348"
      },
      "outputs": [
        {
          "name": "stdout",
          "output_type": "stream",
          "text": [
            "Міра можливості = 1\n",
            "Міра необхідності = 0.5\n",
            "Міра правдоподібності Cr(A<=r): 0.65, Cr(A>=r): 0.15\n"
          ]
        }
      ],
      "source": [
        "print(\"Міра можливості = {}\".format(pos(fuzzy_number, r)))\n",
        "print(\"Міра необхідності = {}\".format(nec(fuzzy_number, r)))\n",
        "print(\"Міра правдоподібності Cr(A<=r): {}, Cr(A>=r): {}\".format(*cr(fuzzy_number, r, rho)))"
      ]
    }
  ],
  "metadata": {
    "colab": {
      "provenance": []
    },
    "kernelspec": {
      "display_name": "Python 3",
      "name": "python3"
    },
    "language_info": {
      "codemirror_mode": {
        "name": "ipython",
        "version": 3
      },
      "file_extension": ".py",
      "mimetype": "text/x-python",
      "name": "python",
      "nbconvert_exporter": "python",
      "pygments_lexer": "ipython3",
      "version": "3.9.13"
    }
  },
  "nbformat": 4,
  "nbformat_minor": 0
}
