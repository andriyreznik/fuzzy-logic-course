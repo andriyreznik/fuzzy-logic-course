{
  "cells": [
    {
      "cell_type": "code",
      "execution_count": 1,
      "metadata": {
        "id": "ti-23_q24Izf"
      },
      "outputs": [],
      "source": [
        "import numpy as np"
      ]
    },
    {
      "cell_type": "markdown",
      "metadata": {
        "id": "HJy_fzOyzblQ"
      },
      "source": [
        "## Завдання 2\n",
        "\n",
        "Варіант №17:\n",
        "\n",
        "Дано два трикутні нечіткі числа:\n",
        "\n",
        "$A_і$ = ($a_і$, $b_і$, $c_і$) = (1,5,7);\n",
        "\n",
        "$C_j$ = ($a_j$, $b_j$, $c_j$) = (5,8,12);\n",
        "\n",
        "Виконати над ними арифметичні дії."
      ]
    },
    {
      "cell_type": "code",
      "execution_count": 2,
      "metadata": {
        "id": "pjgPsnZWzJBh"
      },
      "outputs": [],
      "source": [
        "Ai = np.array([1,5,7])\n",
        "Cj = np.array([5,8,12])\n",
        "\n",
        "ai, bi, ci = Ai\n",
        "aj, bj, cj = Cj"
      ]
    },
    {
      "cell_type": "markdown",
      "metadata": {
        "id": "I5h8qPbv0tzv"
      },
      "source": [
        "1. Обчислюємо суму:"
      ]
    },
    {
      "cell_type": "code",
      "execution_count": 3,
      "metadata": {
        "colab": {
          "base_uri": "https://localhost:8080/"
        },
        "id": "CY-hsfDR0qhv",
        "outputId": "225b94d9-e46f-4cce-ed78-df472bb8446d"
      },
      "outputs": [
        {
          "data": {
            "text/plain": [
              "array([ 6, 13, 19])"
            ]
          },
          "execution_count": 3,
          "metadata": {},
          "output_type": "execute_result"
        }
      ],
      "source": [
        "np.add(Ai, Cj)  "
      ]
    },
    {
      "cell_type": "markdown",
      "metadata": {
        "id": "To-vupms1n--"
      },
      "source": [
        "2. Обчислюємо різницю:"
      ]
    },
    {
      "cell_type": "code",
      "execution_count": 4,
      "metadata": {
        "colab": {
          "base_uri": "https://localhost:8080/"
        },
        "id": "VgjFXhmx1teA",
        "outputId": "b7af1dea-5abb-46f5-89cb-ebd372a979cd"
      },
      "outputs": [
        {
          "data": {
            "text/plain": [
              "[-11, -3, 2]"
            ]
          },
          "execution_count": 4,
          "metadata": {},
          "output_type": "execute_result"
        }
      ],
      "source": [
        "[ai - cj, bi - bj, ci - aj]"
      ]
    },
    {
      "cell_type": "markdown",
      "metadata": {
        "id": "mlsO7aX81wLv"
      },
      "source": [
        "3. Обчислюємо добуток:"
      ]
    },
    {
      "cell_type": "code",
      "execution_count": 5,
      "metadata": {
        "colab": {
          "base_uri": "https://localhost:8080/"
        },
        "id": "_AID5akg1z6H",
        "outputId": "8d9bfb8c-779f-4c14-f130-79530a57d310"
      },
      "outputs": [
        {
          "data": {
            "text/plain": [
              "[-7, 40, 76]"
            ]
          },
          "execution_count": 5,
          "metadata": {},
          "output_type": "execute_result"
        }
      ],
      "source": [
        "[bi * aj - bi * bj + ai * bj, bi * bj, bi * cj - bi * bj + ci * bj]"
      ]
    },
    {
      "cell_type": "markdown",
      "metadata": {
        "id": "zq2fhD3D10d3"
      },
      "source": [
        "4. Обчислюємо частку:"
      ]
    },
    {
      "cell_type": "code",
      "execution_count": 6,
      "metadata": {
        "colab": {
          "base_uri": "https://localhost:8080/"
        },
        "id": "_cfSFcT516Jv",
        "outputId": "6d28de20-c74f-4bd4-a39f-0a3ac4220413"
      },
      "outputs": [
        {
          "data": {
            "text/plain": [
              "[-0.1875, 0.625, 0.875]"
            ]
          },
          "execution_count": 6,
          "metadata": {},
          "output_type": "execute_result"
        }
      ],
      "source": [
        "[(ai * bj + bi * bj - bi * cj) / bj**2, bi / bj, (bi * bj - bi * bj +ci * bj) / bj**2]"
      ]
    },
    {
      "cell_type": "markdown",
      "metadata": {
        "id": "3F1DvgGg16wg"
      },
      "source": [
        "5. Обернені значення цих нечітких чисел:"
      ]
    },
    {
      "cell_type": "code",
      "execution_count": 7,
      "metadata": {
        "colab": {
          "base_uri": "https://localhost:8080/"
        },
        "id": "virCvJMs1_dY",
        "outputId": "f726a3a4-b890-44b9-d634-3f9eb76454de"
      },
      "outputs": [
        {
          "name": "stdout",
          "output_type": "stream",
          "text": [
            "[0.12, 0.2, 0.36]\n",
            "[0.0625, 0.125, 0.171875]\n"
          ]
        }
      ],
      "source": [
        "def inv(arr):\n",
        "    a, b, c = arr\n",
        "    return [(2 * b - c) / b**2, 1 / b, (2 * b - a) / b**2]\n",
        "\n",
        "print(inv(Ai))\n",
        "print(inv(Cj))"
      ]
    }
  ],
  "metadata": {
    "colab": {
      "provenance": []
    },
    "kernelspec": {
      "display_name": "Python 3",
      "name": "python3"
    },
    "language_info": {
      "codemirror_mode": {
        "name": "ipython",
        "version": 3
      },
      "file_extension": ".py",
      "mimetype": "text/x-python",
      "name": "python",
      "nbconvert_exporter": "python",
      "pygments_lexer": "ipython3",
      "version": "3.9.13"
    }
  },
  "nbformat": 4,
  "nbformat_minor": 0
}
