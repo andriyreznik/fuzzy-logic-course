{
  "cells": [
    {
      "cell_type": "code",
      "execution_count": 1,
      "metadata": {
        "id": "ccqa5rfF-6yA"
      },
      "outputs": [],
      "source": [
        "import numpy as np"
      ]
    },
    {
      "cell_type": "markdown",
      "metadata": {
        "id": "Jez2QDgi_AXq"
      },
      "source": [
        "Завдання 3\n",
        "\n",
        "Варіант №17:\n",
        "\n",
        "Дано два нечіткі трапецієподібні інтервали:\n",
        "\n",
        "$A_і$ = ($a_і$, $b_і$, $c_і$, $d_і$) = (4,6,8,11);\n",
        "\n",
        "$C_j$ = ($a_j$, $b_j$, $c_j$, $d_j$) = (2,6,9,14);\n",
        "\n",
        "Виконати над ними арифметичні дії:"
      ]
    },
    {
      "cell_type": "code",
      "execution_count": 2,
      "metadata": {
        "id": "S44CqxOv-_6q"
      },
      "outputs": [],
      "source": [
        "Ai = np.array([4,6,8,11])\n",
        "Cj = np.array([2,6,9,14])\n",
        "\n",
        "ai, bi, ci, di = Ai\n",
        "aj, bj, cj, dj = Cj"
      ]
    },
    {
      "cell_type": "markdown",
      "metadata": {
        "id": "YeQtYm1l8lpX"
      },
      "source": [
        "1. Обчислюємо суму:"
      ]
    },
    {
      "cell_type": "code",
      "execution_count": 3,
      "metadata": {
        "colab": {
          "base_uri": "https://localhost:8080/"
        },
        "id": "38gRBzNj8mY-",
        "outputId": "8bffd479-f88e-4149-ad28-56ad6ca927f4"
      },
      "outputs": [
        {
          "data": {
            "text/plain": [
              "array([ 6, 12, 17, 25])"
            ]
          },
          "execution_count": 3,
          "metadata": {},
          "output_type": "execute_result"
        }
      ],
      "source": [
        "np.add(Ai, Cj)"
      ]
    },
    {
      "cell_type": "markdown",
      "metadata": {
        "id": "87TEbygq8wM-"
      },
      "source": [
        "2. Обчислюємо різницю:"
      ]
    },
    {
      "cell_type": "code",
      "execution_count": 4,
      "metadata": {
        "colab": {
          "base_uri": "https://localhost:8080/"
        },
        "id": "i7qfmr7k_eAI",
        "outputId": "aa9e214e-bf2a-4592-fc24-4fe14f2a81f3"
      },
      "outputs": [
        {
          "data": {
            "text/plain": [
              "[-7, 0, -1, 6]"
            ]
          },
          "execution_count": 4,
          "metadata": {},
          "output_type": "execute_result"
        }
      ],
      "source": [
        "[ai - bj - dj + cj, bi - bj, ci - cj, di + bj - aj -cj]"
      ]
    },
    {
      "cell_type": "markdown",
      "metadata": {
        "id": "bbix862r_3EG"
      },
      "source": [
        "3. Обчислюємо добуток:"
      ]
    },
    {
      "cell_type": "code",
      "execution_count": 5,
      "metadata": {
        "colab": {
          "base_uri": "https://localhost:8080/"
        },
        "id": "AA7sTzAl_70c",
        "outputId": "bd760676-a1c3-4207-96e9-1a62bc7ee772"
      },
      "outputs": [
        {
          "data": {
            "text/plain": [
              "[0, 36, 72, 139]"
            ]
          },
          "execution_count": 5,
          "metadata": {},
          "output_type": "execute_result"
        }
      ],
      "source": [
        "[bi * aj - bi * bj + ai * bj, bi * bj, ci * cj, ci * dj - ci * cj + di * cj]"
      ]
    },
    {
      "cell_type": "markdown",
      "metadata": {
        "id": "RWPEmFyV_8go"
      },
      "source": [
        "4. Обчислюємо частку:"
      ]
    },
    {
      "cell_type": "code",
      "execution_count": 6,
      "metadata": {
        "colab": {
          "base_uri": "https://localhost:8080/"
        },
        "id": "b-MtbPs6_9Em",
        "outputId": "9128995b-46e9-4fb0-a1fc-65a7541a6f83"
      },
      "outputs": [
        {
          "data": {
            "text/plain": [
              "array([0.07, 0.67, 1.33, 2.72])"
            ]
          },
          "execution_count": 6,
          "metadata": {},
          "output_type": "execute_result"
        }
      ],
      "source": [
        "np.round([(bi * cj - bi * dj + ai * cj) / cj**2, bi / cj, ci / bj, (ci * bj - ci * aj + di * bj) / bj**2], 2)"
      ]
    },
    {
      "cell_type": "markdown",
      "metadata": {
        "id": "h3AJO8BH_mPB"
      },
      "source": [
        "5. Обернені значення цих нечітких трапецієподібних інтервалів:"
      ]
    },
    {
      "cell_type": "code",
      "execution_count": 7,
      "metadata": {
        "colab": {
          "base_uri": "https://localhost:8080/"
        },
        "id": "SnjaXUeX_hjv",
        "outputId": "005f3161-2eb3-4d5e-c841-5b2d718c9927"
      },
      "outputs": [
        {
          "name": "stdout",
          "output_type": "stream",
          "text": [
            "[0.08 0.12 0.17 0.22]\n",
            "[0.05 0.11 0.17 0.28]\n"
          ]
        }
      ],
      "source": [
        "def inv(arr):\n",
        "    a, b, c, d = arr\n",
        "    return np.round([(2*c-d)/c**2, 1/c, 1/b, (2*b-a)/b**2], 2)\n",
        "\n",
        "print(inv(Ai))\n",
        "print(inv(Cj))"
      ]
    }
  ],
  "metadata": {
    "colab": {
      "provenance": []
    },
    "kernelspec": {
      "display_name": "Python 3",
      "name": "python3"
    },
    "language_info": {
      "codemirror_mode": {
        "name": "ipython",
        "version": 3
      },
      "file_extension": ".py",
      "mimetype": "text/x-python",
      "name": "python",
      "nbconvert_exporter": "python",
      "pygments_lexer": "ipython3",
      "version": "3.9.13"
    }
  },
  "nbformat": 4,
  "nbformat_minor": 0
}
